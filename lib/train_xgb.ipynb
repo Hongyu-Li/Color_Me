{
 "cells": [
  {
   "cell_type": "code",
   "execution_count": null,
   "metadata": {},
   "outputs": [],
   "source": [
    "import cv2 \n",
    "import itertools\n",
    "import numpy as np\n",
    "from scipy.cluster.vq import kmeans,vq\n",
    "from sklearn import preprocessing\n",
    "from sklearn.decomposition import PCA\n",
    "from sklearn.svm import SVC\n",
    "from sklearn.cluster import KMeans\n",
    "import operator\n",
    "from functools import reduce"
   ]
  },
  {
   "cell_type": "code",
   "execution_count": null,
   "metadata": {},
   "outputs": [],
   "source": [
    "def quantize_kmeans(a, b,ncolors, npics):\n",
    "    print(len(a))\n",
    "    print(1)\n",
    "    lengthab = len(a) / npics\n",
    "    \n",
    "#     w,h = np.shape(a)\n",
    "        \n",
    "    # reshape matrix\n",
    "    pixel = np.reshape((cv2.merge((a,b))),(len(a),2)).astype(float)\n",
    "    \n",
    "    # quantization\n",
    "    kmeans = KMeans(n_clusters=ncolors) \n",
    "    label=kmeans.fit(pixel)\n",
    "    return label.labels_"
   ]
  },
  {
   "cell_type": "code",
   "execution_count": null,
   "metadata": {},
   "outputs": [],
   "source": [
    "def train_xgb(files,ncolors,npics):\n",
    "    \n",
    "    kmap_a=np.array([])\n",
    "    kmap_b=np.array([])\n",
    "    for f in files:\n",
    "\n",
    "        _,a,b = load_image(f)\n",
    "        kmap_a = np.concatenate([kmap_a, a.flatten()])\n",
    "        kmap_b = np.concatenate([kmap_b, b.flatten()])\n",
    "\n",
    "    label=quantize_kmeans(kmap_a, kmap_b, ncolors, npics)\n",
    "    \n",
    "    pixel=[]\n",
    "    for f in files:\n",
    "        l, a, b = load_image(f)\n",
    "        this_pixel = l.reshape(1,256*256).tolist()\n",
    "        #print(len(this_pixel[0]))\n",
    "        pixel.append(this_pixel[0])\n",
    "\n",
    "    pixel = reduce(operator.add, pixel)\n",
    "\n",
    "    pixel_mat = np.array(pixel).reshape(npics*256*256,1)\n",
    "\n",
    "    dtrain = xgb.DMatrix(pixel_mat, label=label)\n",
    "    param = {'max_depth':10, 'eta':0.1, 'silent':1, 'objective':'multi:softmax', 'num_class':32}\n",
    "    num_round = 10\n",
    "    bst = xgb.train(param, dtrain, num_round)\n",
    "    return bst"
   ]
  },
  {
   "cell_type": "code",
   "execution_count": null,
   "metadata": {},
   "outputs": [],
   "source": [
    "l_test, a_test, b_test = load_image('C:/Users/rolco/Desktop/test2.jpg')\n",
    "pixel_test = l_test.reshape(256*256,1)\n",
    "#dtrain = xgb.DMatrix(pixel, label=label)\n",
    "dtest=xgb.DMatrix(pixel_test)\n",
    "preds = bst.predict(dtest)\n",
    "#print(np.max(preds),np.min(preds))"
   ]
  },
  {
   "cell_type": "code",
   "execution_count": null,
   "metadata": {},
   "outputs": [],
   "source": [
    "preds = preds.reshape(256,256)\n",
    "preds.shape\n",
    "colors_present = [i for i in range(16)]\n",
    "output_a = np.zeros((256,256))\n",
    "output_b = np.zeros((256,256))\n",
    "output_l = l_test\n",
    "for i in range(256):\n",
    "    for j in range(256):\n",
    "#             output_labels[i,j] = tmp[0]\n",
    "#         print(colors_present[int(preds[i,j])],i,j)\n",
    "        a,b = label_to_color_map_value[colors_present[int(preds[i,j])]]\n",
    "        output_a[i,j] = a\n",
    "        output_b[i,j] = b\n",
    "        \n",
    "output_img = cv2.cvtColor(cv2.merge(( np.uint8(output_l), np.uint8(output_a), np.uint8(output_b))), cv2.COLOR_LAB2RGB)\n",
    "plt.imshow(output_img)\n",
    "# plt.imsave('output_img1.jpg',output_img)"
   ]
  }
 ],
 "metadata": {
  "kernelspec": {
   "display_name": "Python 3",
   "language": "python",
   "name": "python3"
  },
  "language_info": {
   "codemirror_mode": {
    "name": "ipython",
    "version": 3
   },
   "file_extension": ".py",
   "mimetype": "text/x-python",
   "name": "python",
   "nbconvert_exporter": "python",
   "pygments_lexer": "ipython3",
   "version": "3.6.4"
  }
 },
 "nbformat": 4,
 "nbformat_minor": 2
}
