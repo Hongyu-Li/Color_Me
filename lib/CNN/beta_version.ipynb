{
 "cells": [
  {
   "cell_type": "code",
   "execution_count": 91,
   "metadata": {
    "collapsed": true
   },
   "outputs": [],
   "source": [
    "## Referrence: \n",
    "## https://blog.floydhub.com/colorizing-b&w-photos-with-neural-networks/\n",
    "\n",
    "from keras.layers import Conv2D, Conv2DTranspose, UpSampling2D\n",
    "from keras.layers import Activation, Dense, Dropout, Flatten, InputLayer\n",
    "from keras.layers.normalization import BatchNormalization\n",
    "from keras.callbacks import TensorBoard\n",
    "from keras.models import Sequential\n",
    "from keras.preprocessing.image import ImageDataGenerator, array_to_img, img_to_array, load_img\n",
    "from skimage.color import rgb2lab, lab2rgb, rgb2gray, grey2rgb\n",
    "from skimage.io import imsave\n",
    "import numpy as np\n",
    "import os\n",
    "import random\n",
    "import tensorflow as tf\n",
    "import scipy.misc  \n",
    "import os.path  "
   ]
  },
  {
   "cell_type": "code",
   "execution_count": 93,
   "metadata": {},
   "outputs": [],
   "source": [
    "file_dir = 'train/'\n",
    "save_path = 'result/'\n",
    "classes = {'InitImages'}\n",
    "image_list = []\n",
    "for index,name in enumerate(classes):\n",
    "    class_path=file_dir+name+'/'#读取类路径\n",
    "    for img_name in os.listdir(class_path):\n",
    "        if img_name != \".DS_Store\":\n",
    "            filenames=class_path+img_name#获取每一个图片地址\n",
    "            image_list.append(filenames)\n",
    "print(image_list)\n",
    "filename_queue = tf.train.string_input_producer(image_list)         \n",
    "reader = tf.WholeFileReader()          \n",
    "key,value = reader.read(filename_queue)          \n",
    "images = tf.image.decode_jpeg(value)#tf.image.decode_png(value)  \n",
    "CP_H = 256\n",
    "CP_W = 256\n",
    "# 裁切图片\n",
    "with tf.Session() as sess:\n",
    "    coord = tf.train.Coordinator()  \n",
    "    threads = tf.train.start_queue_runners(coord=coord)  \n",
    "\n",
    "    reshapeimg = tf.image.resize_images(images,(CP_H,CP_W))\n",
    "    for index in range(len(image_list)):\n",
    "        #reimg1的类型是<class 'numpy.ndarray'>  \n",
    "        reimg = reshapeimg.eval()  \n",
    "        scipy.misc.imsave(save_path+'crop_or_pad'+\"%03d\" %index+'.jpg', reimg)\n",
    "\n",
    "    coord.request_stop()  \n",
    "    coord.join(threads)    \n",
    "print('crop_or_pad successful!')"
   ]
  },
  {
   "cell_type": "code",
   "execution_count": 94,
   "metadata": {},
   "outputs": [],
   "source": [
    "# Get images\n",
    "# Change to '/data/images/Train/' to use all the 10k images\n",
    "X = []\n",
    "# for filename in os.listdir('../Train/'):\n",
    "#     X.append(img_to_array(load_img('../Train/'+filename)))\n",
    "for filename in os.listdir('ImgReshape/crop_or_pad/'):\n",
    "    if filename != \".DS_Store\":\n",
    "        X.append(img_to_array(load_img('ImgReshape/crop_or_pad/'+filename)))\n",
    "X = np.array(X, dtype=float)\n",
    "\n",
    "# Set up train and test data\n",
    "# split = int(0.95*len(X))\n",
    "split = int(len(X))\n",
    "Xtrain = X[:split]\n",
    "Xtrain = 1.0/255*Xtrain\n",
    "Xtrain.shape"
   ]
  },
  {
   "cell_type": "code",
   "execution_count": 84,
   "metadata": {
    "collapsed": true
   },
   "outputs": [],
   "source": [
    "model = Sequential()\n",
    "model.add(InputLayer(input_shape=(256, 256, 1)))\n",
    "model.add(Conv2D(64, (3, 3), activation='relu', padding='same'))\n",
    "model.add(Conv2D(64, (3, 3), activation='relu', padding='same', strides=2))\n",
    "model.add(Conv2D(128, (3, 3), activation='relu', padding='same'))\n",
    "model.add(Conv2D(128, (3, 3), activation='relu', padding='same', strides=2))\n",
    "model.add(Conv2D(256, (3, 3), activation='relu', padding='same'))\n",
    "model.add(Conv2D(256, (3, 3), activation='relu', padding='same', strides=2))\n",
    "model.add(Conv2D(512, (3, 3), activation='relu', padding='same'))\n",
    "model.add(Conv2D(256, (3, 3), activation='relu', padding='same'))\n",
    "model.add(Conv2D(128, (3, 3), activation='relu', padding='same'))\n",
    "model.add(UpSampling2D((2, 2)))\n",
    "model.add(Conv2D(64, (3, 3), activation='relu', padding='same'))\n",
    "model.add(UpSampling2D((2, 2)))\n",
    "model.add(Conv2D(32, (3, 3), activation='relu', padding='same'))\n",
    "model.add(Conv2D(2, (3, 3), activation='tanh', padding='same'))\n",
    "model.add(UpSampling2D((2, 2)))\n",
    "model.compile(optimizer='rmsprop', loss='mse')"
   ]
  },
  {
   "cell_type": "code",
   "execution_count": 95,
   "metadata": {
    "scrolled": true
   },
   "outputs": [],
   "source": [
    "# Image transformer\n",
    "datagen = ImageDataGenerator(\n",
    "        shear_range=0.2,\n",
    "        zoom_range=0.2,\n",
    "        rotation_range=20,\n",
    "        horizontal_flip=True)\n",
    "\n",
    "# Generate training data\n",
    "batch_size = 2\n",
    "def image_a_b_gen(batch_size):\n",
    "    for batch in datagen.flow(Xtrain, batch_size=batch_size):\n",
    "        lab_batch = rgb2lab(batch)\n",
    "        X_batch = lab_batch[:,:,:,0]\n",
    "        Y_batch = lab_batch[:,:,:,1:] / 128\n",
    "        yield (X_batch.reshape(X_batch.shape+(1,)), Y_batch)\n",
    "\n",
    "# Train model      \n",
    "tensorboard = TensorBoard(log_dir=\"output/beta_run\")\n",
    "model.fit_generator(image_a_b_gen(batch_size), callbacks=[tensorboard], epochs=10, steps_per_epoch=1)"
   ]
  },
  {
   "cell_type": "code",
   "execution_count": 86,
   "metadata": {
    "collapsed": true
   },
   "outputs": [],
   "source": [
    "# Save model\n",
    "model_json = model.to_json()\n",
    "with open(\"model.json\", \"w\") as json_file:\n",
    "    json_file.write(model_json)\n",
    "model.save_weights(\"model.h5\")"
   ]
  },
  {
   "cell_type": "code",
   "execution_count": 96,
   "metadata": {},
   "outputs": [],
   "source": [
    "X_ = np.array(img_to_array(load_img('ImgReshape/result/1.png')), dtype=float)\n",
    "print(X_.shape)\n",
    "Xtest = rgb2lab(1.0/255*X_)[:,:,0]\n",
    "Xtest = Xtest.reshape(1, 256, 256, 1)                \n",
    "                \n",
    "print(Xtest.shape)\n",
    "output = model.predict(Xtest)\n",
    "output *= 128\n",
    "# Output colorizations\n",
    "cur = np.zeros((256, 256, 3))\n",
    "cur[:,:,0] = Xtest[0][:,:,0]\n",
    "cur[:,:,1:] = output[0]\n",
    "imsave(\"test_result.jpg\", lab2rgb(cur))\n",
    "imsave(\"test_gray_version.jpg\", rgb2gray(lab2rgb(cur)))\n",
    "from PIL import Image\n",
    "image = Image.open('test_result.jpg')\n",
    "image.show()\n",
    "print(model.evaluate(Xtest, Ytest, batch_size=batch_size))"
   ]
  },
  {
   "cell_type": "code",
   "execution_count": 18,
   "metadata": {},
   "outputs": [
    {
     "name": "stdout",
     "output_type": "stream",
     "text": [
      "(256, 256, 3)\n",
      "(8, 256, 256, 3)\n"
     ]
    },
    {
     "name": "stderr",
     "output_type": "stream",
     "text": [
      "/Users/jane/anaconda3/lib/python3.6/site-packages/skimage/util/dtype.py:122: UserWarning: Possible precision loss when converting from float64 to uint8\n",
      "  .format(dtypeobj_in, dtypeobj_out))\n"
     ]
    }
   ],
   "source": [
    "# Change to '/data/images/Test/' to use all the 500 images\n",
    "from skimage import io\n",
    "color_me = []\n",
    "for filename in os.listdir('../Test/'):\n",
    "\tcolor_me.append(img_to_array(load_img('../Test/'+filename)))\n",
    "    \n",
    "image = io.imread('../Test/0fAtAB.jpg')\n",
    "print(image.shape)\n",
    "\n",
    "color_me = np.array(color_me, dtype=float)\n",
    "print(color_me.shape)\n",
    "color_me = rgb2lab(1.0/255*color_me)[:,:,:,0]\n",
    "color_me = color_me.reshape(color_me.shape+(1,))\n",
    "\n",
    "# Test model\n",
    "output = model.predict(color_me)\n",
    "output = output * 128\n",
    "\n",
    "# Output colorizations\n",
    "for i in range(len(output)):\n",
    "\tcur = np.zeros((256, 256, 3))\n",
    "\tcur[:,:,0] = color_me[i][:,:,0]\n",
    "\tcur[:,:,1:] = output[i]\n",
    "\timsave(\"result/img_\"+str(i)+\".png\", lab2rgb(cur))"
   ]
  },
  {
   "cell_type": "code",
   "execution_count": null,
   "metadata": {},
   "outputs": [],
   "source": []
  },
  {
   "cell_type": "code",
   "execution_count": null,
   "metadata": {},
   "outputs": [],
   "source": []
  },
  {
   "cell_type": "code",
   "execution_count": null,
   "metadata": {
    "collapsed": true
   },
   "outputs": [],
   "source": []
  }
 ],
 "metadata": {
  "kernelspec": {
   "display_name": "Python 3",
   "language": "python",
   "name": "python3"
  },
  "language_info": {
   "codemirror_mode": {
    "name": "ipython",
    "version": 3
   },
   "file_extension": ".py",
   "mimetype": "text/x-python",
   "name": "python",
   "nbconvert_exporter": "python",
   "pygments_lexer": "ipython3",
   "version": "3.6.3"
  }
 },
 "nbformat": 4,
 "nbformat_minor": 2
}
